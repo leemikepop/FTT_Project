{
 "cells": [
  {
   "attachments": {},
   "cell_type": "markdown",
   "metadata": {},
   "source": [
    "Import pakages"
   ]
  },
  {
   "cell_type": "code",
   "execution_count": 46,
   "metadata": {},
   "outputs": [],
   "source": [
    "import numpy as np\n",
    "import matplotlib.pyplot as plt\n",
    "from PIL import Image\n",
    "import glob,pandas,time,os\n",
    "\n",
    "import torch,torch.nn,torchvision\n",
    "from torch.utils.data import Dataset,DataLoader\n",
    "from torchsummary import summary\n",
    "from torcheval.metrics.functional import r2_score,mean_squared_error"
   ]
  },
  {
   "cell_type": "code",
   "execution_count": 3,
   "metadata": {},
   "outputs": [
    {
     "name": "stdout",
     "output_type": "stream",
     "text": [
      "2.0.0+cu117\n",
      "False\n",
      "11.7\n",
      "8500\n",
      "cpu\n"
     ]
    }
   ],
   "source": [
    "print(torch.__version__)\n",
    "print(torch.cuda.is_available())\n",
    "print(torch.version.cuda)\n",
    "print(torch.backends.cudnn.version())\n",
    "device = torch.device('cuda' if torch.cuda.is_available() else 'cpu')\n",
    "print(device.type)"
   ]
  },
  {
   "attachments": {},
   "cell_type": "markdown",
   "metadata": {},
   "source": [
    "Some Utilities"
   ]
  },
  {
   "attachments": {},
   "cell_type": "markdown",
   "metadata": {},
   "source": [
    "Dataset"
   ]
  },
  {
   "cell_type": "code",
   "execution_count": 4,
   "metadata": {},
   "outputs": [],
   "source": [
    "class MyDataSet(Dataset):\n",
    "    def __init__(self,file_paths,labels_lists,transform):\n",
    "        super().__init__()\n",
    "        self.file_paths = file_paths\n",
    "        self.labels_lists = labels_lists\n",
    "        self.transform = transform\n",
    "    def __len__(self):\n",
    "        return len(self.file_paths)\n",
    "    def __getitem__(self, index):\n",
    "        if torch.is_tensor(index):\n",
    "            index = index.tolist()\n",
    "        image = Image.open(self.file_paths[index])\n",
    "        image = self.transform(image).float()\n",
    "        labels = self.labels_lists[index]\n",
    "        labels = np.array(labels)\n",
    "        labels = labels.astype('float').reshape(-1,4)\n",
    "        sample = {'image':image,'psi':labels}\n",
    "        return sample"
   ]
  },
  {
   "attachments": {},
   "cell_type": "markdown",
   "metadata": {},
   "source": [
    "DataLoader"
   ]
  },
  {
   "cell_type": "code",
   "execution_count": 5,
   "metadata": {},
   "outputs": [],
   "source": [
    "def BuildDataLoader(images_fp,labels_fp,input_size,RGB_mean,RGB_std,config):\n",
    "    df = pandas.read_csv(labels_fp)\n",
    "    df = df.iloc[:,20:24]\n",
    "    psi = df.to_numpy()\n",
    "    img_pl = glob.glob(images_fp)\n",
    "    img_pl = np.array(img_pl)\n",
    "\n",
    "    #shuffle\n",
    "    orig_dataset = np.c_[img_pl,psi]\n",
    "    np.random.seed(config['random_seed'])\n",
    "    np.random.shuffle(orig_dataset)\n",
    "\n",
    "    #split into train and test\n",
    "    train_inputs, validation_inputs, test_inputs = [],[],[]\n",
    "    train_labels, validation_labels, test_labels = [],[],[]\n",
    "    train_num = int(len(orig_dataset)*0.6)\n",
    "    val_num = int(len(orig_dataset)*0.8)\n",
    "    for data in orig_dataset[:train_num]:\n",
    "        train_inputs.append(data[0])\n",
    "        train_labels.append([data[1:]])\n",
    "    for data in orig_dataset[train_num:val_num]:\n",
    "        validation_inputs.append(data[0])\n",
    "        validation_labels.append([data[1:]])\n",
    "    for data in orig_dataset[val_num:]:\n",
    "        test_inputs.append(data[0])\n",
    "        test_labels.append([data[1:]])\n",
    "\n",
    "    # normalize = torchvision.transforms.Normalize(mean = [0.485, 0.456, 0.406], std = [0.229, 0.224, 0.225])\n",
    "    normalize = torchvision.transforms.Normalize(mean = RGB_mean.tolist(), std = RGB_std.tolist())\n",
    "    data_transforms = {\n",
    "        'train': torchvision.transforms.Compose([\n",
    "            torchvision.transforms.RandomResizedCrop(input_size),\n",
    "            torchvision.transforms.RandomHorizontalFlip(),\n",
    "            torchvision.transforms.ToTensor(),\n",
    "            normalize\n",
    "        ]),\n",
    "        'val': torchvision.transforms.Compose([\n",
    "            torchvision.transforms.Resize(input_size),\n",
    "            torchvision.transforms.CenterCrop(input_size),\n",
    "            torchvision.transforms.ToTensor(),\n",
    "            normalize\n",
    "        ]),\n",
    "        'test': torchvision.transforms.Compose([\n",
    "            torchvision.transforms.Resize(input_size),\n",
    "            torchvision.transforms.CenterCrop(input_size),\n",
    "            torchvision.transforms.ToTensor(),\n",
    "            normalize\n",
    "        ])\n",
    "    }\n",
    "\n",
    "    train_dataLoader = DataLoader(MyDataSet(train_inputs,train_labels,data_transforms['train']),batch_size=3,shuffle=True)\n",
    "    validation_dataLoader = DataLoader(MyDataSet(train_inputs,train_labels,data_transforms['val']),batch_size=3,shuffle=True)\n",
    "    test_dataLoader = DataLoader(MyDataSet(test_inputs,test_labels,data_transforms['test']),batch_size=3,shuffle=False)\n",
    "    \n",
    "    return train_dataLoader,validation_dataLoader,test_dataLoader\n"
   ]
  },
  {
   "attachments": {},
   "cell_type": "markdown",
   "metadata": {},
   "source": [
    "Train Validation Test"
   ]
  },
  {
   "cell_type": "code",
   "execution_count": 27,
   "metadata": {},
   "outputs": [],
   "source": [
    "#Train\n",
    "def train(train_dataLoader:DataLoader,validation_dataLoader:DataLoader,model:torch.nn.Module,config,device:torch.device):\n",
    "    max_epochs = config['max_epochs']\n",
    "    # optimizer = getattr(torch.optim,config['optimizer'])(params_to_update,**config['optim_hparas'])   # Setup optimizer\n",
    "    optimizer = getattr(torch.optim,config['optimizer'])(model.parameters(),**config['optim_hparas'])   # Setup optimizer\n",
    "    criterion = getattr(torch.nn,config['lossFunc'])(**config['loss_hparas'])                           # Setup criterion\n",
    "\n",
    "    min_loss = 1000.\n",
    "    loss_record = {'train':[],'validation':[]}\n",
    "    early_stop_cnt = 0\n",
    "    for epoch in range(max_epochs):\n",
    "        model.train()                       # set model to training mode\n",
    "        for _, sample in enumerate(train_dataLoader) :\n",
    "            x, y = sample['image'].to(device), sample['psi'].to(device).float().squeeze(dim=1)\n",
    "            optimizer.zero_grad()           # set gradient to zero\n",
    "            x,y =x.to(device),y.to(device)  # move data to device (cpu/cuda)\n",
    "            predict = model(x)              # forward pass (compute output)\n",
    "            loss = criterion(predict,y)     # forward pass (compute output)\n",
    "            loss.backward()                 # compute gradient (backpropagation)\n",
    "            optimizer.step()                # update model with optimizer\n",
    "            loss_record['train'].append(loss.detach().cpu().item())\n",
    "            # loss_record['train'].append(loss.item())\n",
    "\n",
    "        # After each epoch, test your model on the validation (development) set.\n",
    "        validation_loss = validation(validation_dataLoader,model,criterion,device)\n",
    "        epoch+=1\n",
    "        loss_record['validation'].extend(validation_loss)\n",
    "        mean_loss = np.mean(validation_loss)\n",
    "        if mean_loss < min_loss:\n",
    "            #save model\n",
    "            min_loss = mean_loss\n",
    "            print('Saving model (epoch = {:4d}, loss = {:.4f})'.format(epoch+1,mean_loss))\n",
    "            torch.save(model.state_dict(),config['save_path'])\n",
    "            early_stop_cnt = 0\n",
    "        else:\n",
    "            early_stop_cnt+=1\n",
    "            if early_stop_cnt > config['early_stop']:\n",
    "                break\n",
    "    print('Finished training after {} epochs'.format(epoch))\n",
    "    return min_loss,loss_record"
   ]
  },
  {
   "cell_type": "code",
   "execution_count": 28,
   "metadata": {},
   "outputs": [],
   "source": [
    "#Validation\n",
    "def validation(validation_dataLoader:DataLoader,model:torch.nn.Module,criterion,device:torch.device):\n",
    "    model.eval()\n",
    "    loss = []\n",
    "    for _, sample in enumerate(validation_dataLoader) :\n",
    "        x, y = sample['image'].to(device), sample['psi'].to(device).float().squeeze(dim=1)\n",
    "        with torch.no_grad():\n",
    "            predict = model(x)\n",
    "            loss.append(criterion(predict,y).detach().cpu().item())\n",
    "    return loss\n"
   ]
  },
  {
   "cell_type": "code",
   "execution_count": 48,
   "metadata": {},
   "outputs": [],
   "source": [
    "#Test\n",
    "def test(test_dataLoader:DataLoader,model:torch.nn.Module,device:torch.device):\n",
    "    model.eval()\n",
    "    predict = []\n",
    "    target = []\n",
    "    for _, sample in enumerate(test_dataLoader) :\n",
    "        x, y = sample['image'].to(device), sample['psi'].to(device).float().squeeze(dim=1)\n",
    "        with torch.no_grad():\n",
    "            pred = model(x)\n",
    "            predict.append(pred.detach().cpu())\n",
    "            target.append(y)\n",
    "    predict = torch.cat(predict,dim=0)\n",
    "    target = torch.cat(target,dim=0)\n",
    "    R2 = r2_score(predict,target)\n",
    "    MSE = mean_squared_error(predict,target)\n",
    "    return R2,MSE\n"
   ]
  },
  {
   "cell_type": "code",
   "execution_count": 18,
   "metadata": {},
   "outputs": [],
   "source": [
    "def getMeanStd(train_fp):\n",
    "    # train_fp = \"../01DataPreProcessing/crop_img/\"\n",
    "    RGB_mean = torch.tensor([0,0,0],dtype=torch.float32)\n",
    "    RGB_std = torch.tensor([0,0,0],dtype=torch.float32)\n",
    "    transform = torchvision.transforms.ToTensor()\n",
    "    n = 0\n",
    "    for fp in glob.glob(train_fp+\"*.jpg\"):\n",
    "        with Image.open(fp) as img:\n",
    "            img = transform(img)\n",
    "            RGB_mean += img.mean(dim=(1,2))\n",
    "            RGB_std += img.std(dim=(1,2))\n",
    "            n+=1\n",
    "    RGB_mean /= n\n",
    "    RGB_std /= n\n",
    "    return RGB_mean,RGB_std"
   ]
  },
  {
   "attachments": {},
   "cell_type": "markdown",
   "metadata": {},
   "source": [
    "Plot"
   ]
  },
  {
   "cell_type": "code",
   "execution_count": 40,
   "metadata": {},
   "outputs": [],
   "source": [
    "def plot_learning_curve(loss_record, title=''):\n",
    "    ''' Plot learning curve of your DNN (train & dev loss) '''\n",
    "    total_steps = len(loss_record['train'])\n",
    "    x_1 = range(total_steps)\n",
    "    x_2 = x_1[::len(loss_record['train']) // len(loss_record['validation'])]\n",
    "    plt.figure(figsize=(6, 4))\n",
    "    plt.plot(x_1, loss_record['train'], c='tab:red', label='train')\n",
    "    plt.plot(x_2, loss_record['validation'], c='tab:cyan', label='validation')\n",
    "    plt.ylim(0.0, 1.)\n",
    "    plt.xlabel('Training steps')\n",
    "    plt.ylabel('MSE loss')\n",
    "    plt.title('Learning curve of {}'.format(title))\n",
    "    plt.legend()\n",
    "    plt.show()"
   ]
  },
  {
   "attachments": {},
   "cell_type": "markdown",
   "metadata": {},
   "source": [
    "Model"
   ]
  },
  {
   "cell_type": "code",
   "execution_count": 9,
   "metadata": {},
   "outputs": [],
   "source": [
    "model = torchvision.models.resnet18(weights=torchvision.models.ResNet18_Weights.DEFAULT)\n",
    "# print(pre_model_Resnet)\n",
    "#凍結參數\n",
    "for param in model.parameters():\n",
    "    # param.requires_grad = False\n",
    "    param.requires_grad = True\n",
    "\n",
    "# pre_model_Resnet.fc = torch.nn.Linear(in_features=512,out_features=4)\n",
    "model.fc = torch.nn.Sequential(torch.nn.Linear(in_features=512,out_features=128),torch.nn.LeakyReLU(),torch.nn.Linear(in_features=128,out_features=4),torch.nn.LeakyReLU())\n",
    "model = model.to(device=device)\n",
    "# print(model)"
   ]
  },
  {
   "cell_type": "code",
   "execution_count": 10,
   "metadata": {},
   "outputs": [
    {
     "name": "stdout",
     "output_type": "stream",
     "text": [
      "\t conv1.weight\n",
      "\t bn1.weight\n",
      "\t bn1.bias\n",
      "\t layer1.0.conv1.weight\n",
      "\t layer1.0.bn1.weight\n",
      "\t layer1.0.bn1.bias\n",
      "\t layer1.0.conv2.weight\n",
      "\t layer1.0.bn2.weight\n",
      "\t layer1.0.bn2.bias\n",
      "\t layer1.1.conv1.weight\n",
      "\t layer1.1.bn1.weight\n",
      "\t layer1.1.bn1.bias\n",
      "\t layer1.1.conv2.weight\n",
      "\t layer1.1.bn2.weight\n",
      "\t layer1.1.bn2.bias\n",
      "\t layer2.0.conv1.weight\n",
      "\t layer2.0.bn1.weight\n",
      "\t layer2.0.bn1.bias\n",
      "\t layer2.0.conv2.weight\n",
      "\t layer2.0.bn2.weight\n",
      "\t layer2.0.bn2.bias\n",
      "\t layer2.0.downsample.0.weight\n",
      "\t layer2.0.downsample.1.weight\n",
      "\t layer2.0.downsample.1.bias\n",
      "\t layer2.1.conv1.weight\n",
      "\t layer2.1.bn1.weight\n",
      "\t layer2.1.bn1.bias\n",
      "\t layer2.1.conv2.weight\n",
      "\t layer2.1.bn2.weight\n",
      "\t layer2.1.bn2.bias\n",
      "\t layer3.0.conv1.weight\n",
      "\t layer3.0.bn1.weight\n",
      "\t layer3.0.bn1.bias\n",
      "\t layer3.0.conv2.weight\n",
      "\t layer3.0.bn2.weight\n",
      "\t layer3.0.bn2.bias\n",
      "\t layer3.0.downsample.0.weight\n",
      "\t layer3.0.downsample.1.weight\n",
      "\t layer3.0.downsample.1.bias\n",
      "\t layer3.1.conv1.weight\n",
      "\t layer3.1.bn1.weight\n",
      "\t layer3.1.bn1.bias\n",
      "\t layer3.1.conv2.weight\n",
      "\t layer3.1.bn2.weight\n",
      "\t layer3.1.bn2.bias\n",
      "\t layer4.0.conv1.weight\n",
      "\t layer4.0.bn1.weight\n",
      "\t layer4.0.bn1.bias\n",
      "\t layer4.0.conv2.weight\n",
      "\t layer4.0.bn2.weight\n",
      "\t layer4.0.bn2.bias\n",
      "\t layer4.0.downsample.0.weight\n",
      "\t layer4.0.downsample.1.weight\n",
      "\t layer4.0.downsample.1.bias\n",
      "\t layer4.1.conv1.weight\n",
      "\t layer4.1.bn1.weight\n",
      "\t layer4.1.bn1.bias\n",
      "\t layer4.1.conv2.weight\n",
      "\t layer4.1.bn2.weight\n",
      "\t layer4.1.bn2.bias\n",
      "\t fc.0.weight\n",
      "\t fc.0.bias\n",
      "\t fc.2.weight\n",
      "\t fc.2.bias\n"
     ]
    }
   ],
   "source": [
    "params_to_update = []\n",
    "for name,param in model.named_parameters():\n",
    "    if param.requires_grad == True:\n",
    "        params_to_update.append(param)\n",
    "        print(\"\\t\",name)"
   ]
  },
  {
   "cell_type": "code",
   "execution_count": 11,
   "metadata": {},
   "outputs": [
    {
     "name": "stdout",
     "output_type": "stream",
     "text": [
      "----------------------------------------------------------------\n",
      "        Layer (type)               Output Shape         Param #\n",
      "================================================================\n",
      "            Conv2d-1         [-1, 64, 122, 122]           9,408\n",
      "       BatchNorm2d-2         [-1, 64, 122, 122]             128\n",
      "              ReLU-3         [-1, 64, 122, 122]               0\n",
      "         MaxPool2d-4           [-1, 64, 61, 61]               0\n",
      "            Conv2d-5           [-1, 64, 61, 61]          36,864\n",
      "       BatchNorm2d-6           [-1, 64, 61, 61]             128\n",
      "              ReLU-7           [-1, 64, 61, 61]               0\n",
      "            Conv2d-8           [-1, 64, 61, 61]          36,864\n",
      "       BatchNorm2d-9           [-1, 64, 61, 61]             128\n",
      "             ReLU-10           [-1, 64, 61, 61]               0\n",
      "       BasicBlock-11           [-1, 64, 61, 61]               0\n",
      "           Conv2d-12           [-1, 64, 61, 61]          36,864\n",
      "      BatchNorm2d-13           [-1, 64, 61, 61]             128\n",
      "             ReLU-14           [-1, 64, 61, 61]               0\n",
      "           Conv2d-15           [-1, 64, 61, 61]          36,864\n",
      "      BatchNorm2d-16           [-1, 64, 61, 61]             128\n",
      "             ReLU-17           [-1, 64, 61, 61]               0\n",
      "       BasicBlock-18           [-1, 64, 61, 61]               0\n",
      "           Conv2d-19          [-1, 128, 31, 31]          73,728\n",
      "      BatchNorm2d-20          [-1, 128, 31, 31]             256\n",
      "             ReLU-21          [-1, 128, 31, 31]               0\n",
      "           Conv2d-22          [-1, 128, 31, 31]         147,456\n",
      "      BatchNorm2d-23          [-1, 128, 31, 31]             256\n",
      "           Conv2d-24          [-1, 128, 31, 31]           8,192\n",
      "      BatchNorm2d-25          [-1, 128, 31, 31]             256\n",
      "             ReLU-26          [-1, 128, 31, 31]               0\n",
      "       BasicBlock-27          [-1, 128, 31, 31]               0\n",
      "           Conv2d-28          [-1, 128, 31, 31]         147,456\n",
      "      BatchNorm2d-29          [-1, 128, 31, 31]             256\n",
      "             ReLU-30          [-1, 128, 31, 31]               0\n",
      "           Conv2d-31          [-1, 128, 31, 31]         147,456\n",
      "      BatchNorm2d-32          [-1, 128, 31, 31]             256\n",
      "             ReLU-33          [-1, 128, 31, 31]               0\n",
      "       BasicBlock-34          [-1, 128, 31, 31]               0\n",
      "           Conv2d-35          [-1, 256, 16, 16]         294,912\n",
      "      BatchNorm2d-36          [-1, 256, 16, 16]             512\n",
      "             ReLU-37          [-1, 256, 16, 16]               0\n",
      "           Conv2d-38          [-1, 256, 16, 16]         589,824\n",
      "      BatchNorm2d-39          [-1, 256, 16, 16]             512\n",
      "           Conv2d-40          [-1, 256, 16, 16]          32,768\n",
      "      BatchNorm2d-41          [-1, 256, 16, 16]             512\n",
      "             ReLU-42          [-1, 256, 16, 16]               0\n",
      "       BasicBlock-43          [-1, 256, 16, 16]               0\n",
      "           Conv2d-44          [-1, 256, 16, 16]         589,824\n",
      "      BatchNorm2d-45          [-1, 256, 16, 16]             512\n",
      "             ReLU-46          [-1, 256, 16, 16]               0\n",
      "           Conv2d-47          [-1, 256, 16, 16]         589,824\n",
      "      BatchNorm2d-48          [-1, 256, 16, 16]             512\n",
      "             ReLU-49          [-1, 256, 16, 16]               0\n",
      "       BasicBlock-50          [-1, 256, 16, 16]               0\n",
      "           Conv2d-51            [-1, 512, 8, 8]       1,179,648\n",
      "      BatchNorm2d-52            [-1, 512, 8, 8]           1,024\n",
      "             ReLU-53            [-1, 512, 8, 8]               0\n",
      "           Conv2d-54            [-1, 512, 8, 8]       2,359,296\n",
      "      BatchNorm2d-55            [-1, 512, 8, 8]           1,024\n",
      "           Conv2d-56            [-1, 512, 8, 8]         131,072\n",
      "      BatchNorm2d-57            [-1, 512, 8, 8]           1,024\n",
      "             ReLU-58            [-1, 512, 8, 8]               0\n",
      "       BasicBlock-59            [-1, 512, 8, 8]               0\n",
      "           Conv2d-60            [-1, 512, 8, 8]       2,359,296\n",
      "      BatchNorm2d-61            [-1, 512, 8, 8]           1,024\n",
      "             ReLU-62            [-1, 512, 8, 8]               0\n",
      "           Conv2d-63            [-1, 512, 8, 8]       2,359,296\n",
      "      BatchNorm2d-64            [-1, 512, 8, 8]           1,024\n",
      "             ReLU-65            [-1, 512, 8, 8]               0\n",
      "       BasicBlock-66            [-1, 512, 8, 8]               0\n",
      "AdaptiveAvgPool2d-67            [-1, 512, 1, 1]               0\n",
      "           Linear-68                  [-1, 128]          65,664\n",
      "        LeakyReLU-69                  [-1, 128]               0\n",
      "           Linear-70                    [-1, 4]             516\n",
      "        LeakyReLU-71                    [-1, 4]               0\n",
      "================================================================\n",
      "Total params: 11,242,692\n",
      "Trainable params: 11,242,692\n",
      "Non-trainable params: 0\n",
      "----------------------------------------------------------------\n",
      "Input size (MB): 0.68\n",
      "Forward/backward pass size (MB): 76.08\n",
      "Params size (MB): 42.89\n",
      "Estimated Total Size (MB): 119.65\n",
      "----------------------------------------------------------------\n"
     ]
    }
   ],
   "source": [
    "summary(model,(3,244,244))"
   ]
  },
  {
   "attachments": {},
   "cell_type": "markdown",
   "metadata": {},
   "source": [
    "Hyper-parameters"
   ]
  },
  {
   "cell_type": "code",
   "execution_count": 13,
   "metadata": {},
   "outputs": [],
   "source": [
    "device = torch.device('cuda' if torch.cuda.is_available() else 'cpu')\n",
    "os.makedirs('./models/',exist_ok=True)\n",
    "target_only = False\n",
    "\n",
    "config ={\n",
    "    'random_seed':123,\n",
    "    'max_epochs':200,\n",
    "    'batch_size':2,\n",
    "    'optimizer':'SGD',\n",
    "    'optim_hparas':{\n",
    "        'lr':0.001,\n",
    "        'momentum':0.8\n",
    "    },\n",
    "    'lossFunc':'MSELoss',\n",
    "    'loss_hparas':{},\n",
    "    'early_stop':10,\n",
    "    'save_path':'./models/model4.pth'\n",
    "}"
   ]
  },
  {
   "attachments": {},
   "cell_type": "markdown",
   "metadata": {},
   "source": [
    "Main"
   ]
  },
  {
   "attachments": {},
   "cell_type": "markdown",
   "metadata": {},
   "source": [
    "Get Mean&STD for normalization"
   ]
  },
  {
   "cell_type": "code",
   "execution_count": 19,
   "metadata": {},
   "outputs": [],
   "source": [
    "RGB_mean,RGB_std = getMeanStd(\"../01DataPreProcessing/crop_img/\")"
   ]
  },
  {
   "attachments": {},
   "cell_type": "markdown",
   "metadata": {},
   "source": [
    "Build DataLoader"
   ]
  },
  {
   "cell_type": "code",
   "execution_count": 15,
   "metadata": {},
   "outputs": [],
   "source": [
    "train_dataLoader,validation_dataLoader,test_dataLoader = BuildDataLoader(\"../01DataPreProcessing/crop_img/*.jpg\",\"../01DataPreProcessing/ftt_psi.csv\",244,RGB_mean,RGB_std,config)"
   ]
  },
  {
   "attachments": {},
   "cell_type": "markdown",
   "metadata": {},
   "source": [
    "Training"
   ]
  },
  {
   "cell_type": "code",
   "execution_count": 42,
   "metadata": {},
   "outputs": [
    {
     "name": "stdout",
     "output_type": "stream",
     "text": [
      "Saving model (epoch =    2, loss = 0.1807)\n",
      "Saving model (epoch =    3, loss = 0.1793)\n",
      "Saving model (epoch =    4, loss = 0.1677)\n",
      "Finished training after 5 epochs\n"
     ]
    }
   ],
   "source": [
    "min_loss,loss_record = train(train_dataLoader,validation_dataLoader,model,config,device)"
   ]
  },
  {
   "cell_type": "code",
   "execution_count": 43,
   "metadata": {},
   "outputs": [
    {
     "data": {
      "image/png": "[encoded data removed]",
      "text/plain": [
       "<Figure size 600x400 with 1 Axes>"
      ]
     },
     "metadata": {},
     "output_type": "display_data"
    }
   ],
   "source": [
    "plot_learning_curve(loss_record, title='ResNet18 Finetuned fc2')"
   ]
  },
  {
   "cell_type": "code",
   "execution_count": 49,
   "metadata": {},
   "outputs": [],
   "source": [
    "model.load_state_dict(torch.load(config['save_path'],map_location=torch.device('cpu')))\n",
    "R2score,mse = test(test_dataLoader,model,device)"
   ]
  },
  {
   "cell_type": "code",
   "execution_count": 50,
   "metadata": {},
   "outputs": [
    {
     "name": "stdout",
     "output_type": "stream",
     "text": [
      "-0.32205045223236084\n",
      "0.17951929569244385\n"
     ]
    }
   ],
   "source": [
    "print(R2score.item()) # -infinite ~ 1\n",
    "print(mse.item())"
   ]
  }
 ],
 "metadata": {
  "kernelspec": {
   "display_name": "Python 3",
   "language": "python",
   "name": "python3"
  },
  "language_info": {
   "codemirror_mode": {
    "name": "ipython",
    "version": 3
   },
   "file_extension": ".py",
   "mimetype": "text/x-python",
   "name": "python",
   "nbconvert_exporter": "python",
   "pygments_lexer": "ipython3",
   "version": "3.9.13"
  },
  "orig_nbformat": 4,
  "vscode": {
   "interpreter": {
    "hash": "686ae1542fb3ced16f052abbbacf52d5868a6944bbc3d52042eef3f0e78da1db"
   }
  }
 },
 "nbformat": 4,
 "nbformat_minor": 2
}
