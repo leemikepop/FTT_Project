{
 "cells": [
  {
   "attachments": {},
   "cell_type": "markdown",
   "metadata": {},
   "source": [
    "Image Augmentation"
   ]
  },
  {
   "cell_type": "code",
   "execution_count": 9,
   "metadata": {},
   "outputs": [],
   "source": [
    "from pathlib import Path\n",
    "from PIL import Image\n",
    "from imgaug import augmenters as iaa\n",
    "import os,numpy\n",
    "src_path = './train_img_1679323167/'\n",
    "dst_path = './aug_images_origin/'\n",
    "image_path_generator = Path(src_path).glob(r'*.jpg')\n",
    "os.makedirs(dst_path,exist_ok=True)"
   ]
  },
  {
   "cell_type": "code",
   "execution_count": 10,
   "metadata": {},
   "outputs": [],
   "source": [
    "seq = iaa.Sequential([iaa.AddToHueAndSaturation((-75,75),per_channel=True),\n",
    "                      iaa.Rotate((-45,45))])\n",
    "img_list = []\n",
    "image_path_list = []\n",
    "for img_pt in image_path_generator:\n",
    "    img = Image.open(img_pt)\n",
    "    img = numpy.array(img)\n",
    "    img_list.append(img)\n",
    "    image_path_list.append(img_pt)\n",
    "\n",
    "for img,img_pt in zip(img_list,image_path_list):\n",
    "    for i in range(10):\n",
    "        img_aug = seq.augment_image(img)\n",
    "        img_aug = Image.fromarray(img_aug,mode=\"RGB\")\n",
    "        img_aug.save('%s%s%02d.jpg'%(dst_path,img_pt.stem,i+1))\n"
   ]
  },
  {
   "attachments": {},
   "cell_type": "markdown",
   "metadata": {},
   "source": [
    "Image Center Crop"
   ]
  },
  {
   "cell_type": "code",
   "execution_count": 11,
   "metadata": {},
   "outputs": [],
   "source": [
    "src = \"./aug_images_origin/\" #image dir you want to crop\n",
    "image_pathlist = Path(src).glob(r'*.jpg')"
   ]
  },
  {
   "cell_type": "code",
   "execution_count": 12,
   "metadata": {},
   "outputs": [],
   "source": [
    "if not os.path.exists(\"aug_images_centerCrop\"):\n",
    "    os.mkdir(\"aug_images_centerCrop\")\n",
    "for path in image_pathlist:\n",
    "    # print(path)\n",
    "    img = Image.open(path)\n",
    "    w,h = img.size\n",
    "    left = (w-500)/2\n",
    "    top = (h-500)/2\n",
    "    right = (w+500)/2\n",
    "    bottom = (h+500)/2\n",
    "    img = img.crop((left,top,right,bottom))\n",
    "    img.save(\"./aug_images_centerCrop/%s\"%os.path.basename(path))"
   ]
  }
 ],
 "metadata": {
  "kernelspec": {
   "display_name": "Python 3",
   "language": "python",
   "name": "python3"
  },
  "language_info": {
   "codemirror_mode": {
    "name": "ipython",
    "version": 3
   },
   "file_extension": ".py",
   "mimetype": "text/x-python",
   "name": "python",
   "nbconvert_exporter": "python",
   "pygments_lexer": "ipython3",
   "version": "3.9.13"
  },
  "orig_nbformat": 4
 },
 "nbformat": 4,
 "nbformat_minor": 2
}
